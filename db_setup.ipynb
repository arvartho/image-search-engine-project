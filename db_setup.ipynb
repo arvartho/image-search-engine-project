{
 "cells": [
  {
   "cell_type": "markdown",
   "metadata": {},
   "source": [
    "# Advanced DB Topics assignment\n",
    "### DB initialization"
   ]
  },
  {
   "cell_type": "markdown",
   "metadata": {},
   "source": [
    "Connect to database `image_db`. Drop `image` table if it exists and rebuild it."
   ]
  },
  {
   "cell_type": "code",
   "execution_count": 1,
   "metadata": {},
   "outputs": [
    {
     "name": "stdout",
     "output_type": "stream",
     "text": [
      "Opened database successfully\n",
      "Table 'images' removed successfully\n",
      "Table 'images' created successfully\n"
     ]
    }
   ],
   "source": [
    "import psycopg2\n",
    "import numpy as np\n",
    "\n",
    "conn = psycopg2.connect(database=\"image_db\", \n",
    "                        user = \"postgres\", \n",
    "                        password = \"admin\", \n",
    "                        host = \"localhost\", \n",
    "                        port = \"5432\")\n",
    "\n",
    "print(\"Opened database successfully\")\n",
    "\n",
    "cur = conn.cursor()\n",
    "cur.execute('''DROP TABLE IF EXISTS images;''')\n",
    "\n",
    "print(\"Table \\'images\\' removed successfully\")\n",
    "\n",
    "cur.execute('''CREATE TABLE public.images\n",
    "               (\n",
    "                   id bigint NOT NULL,\n",
    "                   filename text NOT NULL,\n",
    "                   filepath text COLLATE pg_catalog.\"default\" NOT NULL,\n",
    "                   descriptor_vector bytea NOT NULL\n",
    "               );''')\n",
    "\n",
    "print ('Table \\'images\\' created successfully')\n",
    "\n",
    "conn.commit()\n",
    "conn.close()"
   ]
  },
  {
   "cell_type": "markdown",
   "metadata": {},
   "source": [
    "### Feature extraction"
   ]
  },
  {
   "cell_type": "markdown",
   "metadata": {},
   "source": [
    "Column preperation and feature extraction"
   ]
  },
  {
   "cell_type": "markdown",
   "metadata": {},
   "source": [
    "Parsing files for images and construct the `id`, `filepath` and `groundtruth` columns"
   ]
  },
  {
   "cell_type": "code",
   "execution_count": 2,
   "metadata": {},
   "outputs": [],
   "source": [
    "import glob\n",
    "import os \n",
    "cur_dir = ''#os.path.dirname(os.path.realpath(__file__))\n",
    "img_dir = os.path.join(cur_dir, 'static', 'images', 'celebrities')\n",
    "\n",
    "img_list = [f for p in os.walk(img_dir) for f in glob.glob(os.path.join(p[0], '*.jpg')) if p!='UPLOADS']\n",
    "img_id = [f.split(os.sep)[-1] for f in img_list]"
   ]
  },
  {
   "cell_type": "code",
   "execution_count": 3,
   "metadata": {},
   "outputs": [
    {
     "name": "stderr",
     "output_type": "stream",
     "text": [
      "100%|██████████| 1588/1588 [01:22<00:00, 19.30it/s]"
     ]
    },
    {
     "name": "stdout",
     "output_type": "stream",
     "text": [
      "Finished image feature extraction\n"
     ]
    },
    {
     "name": "stderr",
     "output_type": "stream",
     "text": [
      "\n"
     ]
    },
    {
     "data": {
      "text/plain": [
       "(2048,)"
      ]
     },
     "execution_count": 3,
     "metadata": {},
     "output_type": "execute_result"
    }
   ],
   "source": [
    "from  FeatureExtractor import FeatureExtractor\n",
    "from tqdm import tqdm\n",
    "\n",
    "descriptor_vectors = []\n",
    "for im in tqdm(img_list):\n",
    "#    print(im)\n",
    "   img_features = FeatureExtractor(im, use_face_mask=False)\n",
    "   descriptor_vector = img_features.feature_extractor()\n",
    "   descriptor_vectors.append(descriptor_vector)\n",
    "print('Finished image feature extraction')\n",
    "\n",
    "descriptor_vectors = np.asarray(descriptor_vectors)\n",
    "descriptor_vector.shape"
   ]
  },
  {
   "cell_type": "markdown",
   "metadata": {},
   "source": [
    "Populate `images` table"
   ]
  },
  {
   "cell_type": "code",
   "execution_count": 4,
   "metadata": {},
   "outputs": [
    {
     "name": "stderr",
     "output_type": "stream",
     "text": [
      "  9%|▉         | 141/1588 [00:00<00:01, 1405.98it/s]"
     ]
    },
    {
     "name": "stdout",
     "output_type": "stream",
     "text": [
      "Opened database successfully\n",
      "Write data in db\n"
     ]
    },
    {
     "name": "stderr",
     "output_type": "stream",
     "text": [
      "100%|██████████| 1588/1588 [00:01<00:00, 1513.67it/s]"
     ]
    },
    {
     "name": "stdout",
     "output_type": "stream",
     "text": [
      "Records created successfully\n"
     ]
    },
    {
     "name": "stderr",
     "output_type": "stream",
     "text": [
      "\n"
     ]
    }
   ],
   "source": [
    "import psycopg2\n",
    "\n",
    "conn = psycopg2.connect(database=\"image_db\", \n",
    "                        user = \"postgres\", \n",
    "                        password = \"admin\", \n",
    "                        host = \"localhost\", \n",
    "                        port = \"5432\")\n",
    "\n",
    "print(\"Opened database successfully\")\n",
    "\n",
    "cur = conn.cursor()\n",
    "\n",
    "print(\"Write data in db\")\n",
    "for i in tqdm(range(len(img_list))):\n",
    "   cur.execute(\"INSERT INTO IMAGES (ID, FILENAME, FILEPATH, DESCRIPTOR_VECTOR) \\\n",
    "         VALUES (%s,%s,%s,%s )\", (i,\n",
    "                                     img_id[i], \n",
    "                                     img_list[i], \n",
    "                                     descriptor_vectors[i].tostring()))\n",
    "\n",
    "conn.commit()\n",
    "print (\"Records created successfully\")\n",
    "conn.close()"
   ]
  },
  {
   "cell_type": "markdown",
   "metadata": {},
   "source": [
    "Retrieve all table records"
   ]
  },
  {
   "cell_type": "code",
   "execution_count": 5,
   "metadata": {},
   "outputs": [
    {
     "name": "stdout",
     "output_type": "stream",
     "text": [
      "Opened database successfully\n",
      "Start retrieving query\n",
      "DB transaction finished in 0:00:00.215048\n"
     ]
    }
   ],
   "source": [
    "from datetime import datetime\n",
    "import psycopg2\n",
    "import numpy as np\n",
    "\n",
    "conn = psycopg2.connect(database=\"image_db\", \n",
    "                        user = \"postgres\", \n",
    "                        password = \"admin\", \n",
    "                        host = \"localhost\", \n",
    "                        port = \"5432\")\n",
    "\n",
    "print(\"Opened database successfully\")\n",
    "#Creating a cursor object using the cursor() method\n",
    "cur = conn.cursor()\n",
    "# Setup query\n",
    "sql = '''SELECT * from images'''\n",
    "start = datetime.now()\n",
    "print('Start retrieving query')\n",
    "#Executing the query\n",
    "cur.execute(sql)\n",
    "#Fetching 1st row from the table\n",
    "request = cur.fetchall();\n",
    "print('DB transaction finished in', datetime.now() - start)\n",
    "\n",
    "#Closing the connection\n",
    "conn.close()"
   ]
  },
  {
   "cell_type": "code",
   "execution_count": null,
   "metadata": {},
   "outputs": [],
   "source": []
  }
 ],
 "metadata": {
  "kernelspec": {
   "display_name": "Python 3",
   "language": "python",
   "name": "python3"
  },
  "language_info": {
   "codemirror_mode": {
    "name": "ipython",
    "version": 3
   },
   "file_extension": ".py",
   "mimetype": "text/x-python",
   "name": "python",
   "nbconvert_exporter": "python",
   "pygments_lexer": "ipython3",
   "version": "3.7.4"
  }
 },
 "nbformat": 4,
 "nbformat_minor": 2
}
